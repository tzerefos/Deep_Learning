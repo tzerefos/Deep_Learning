{
 "cells": [
  {
   "cell_type": "code",
   "execution_count": 2,
   "id": "7618b317",
   "metadata": {},
   "outputs": [],
   "source": [
    "import matplotlib.pyplot as plt\n",
    "import seaborn as sns\n",
    "import keras\n",
    "from keras.models import Sequential\n",
    "from keras.layers import Dense, Conv2D , MaxPool2D , Flatten , Dropout , BatchNormalization\n",
    "from keras.preprocessing.image import ImageDataGenerator\n",
    "from sklearn.model_selection import train_test_split\n",
    "from sklearn.metrics import classification_report,confusion_matrix\n",
    "from keras.callbacks import ReduceLROnPlateau\n",
    "import cv2\n",
    "import os\n",
    "import numpy as np\n",
    "from tensorflow.keras.layers import Dense, Dropout, Activation, Flatten\n",
    "from tensorflow.keras.layers import Conv2D, MaxPooling2D"
   ]
  },
  {
   "cell_type": "markdown",
   "id": "b5ffe069",
   "metadata": {},
   "source": [
    "<h2> Data Loading </h2> <br>\n",
    "<i> Initially we define a function that loads and resizes to 75 x 75 pixels every image for every\n",
    "    subset. Since the images are variable in size, a resizing is deemed necessary and for complexity\n",
    "    purposes, we have decided to opt for the aforementioned resolution.\n",
    "</i>"
   ]
  },
  {
   "cell_type": "code",
   "execution_count": 3,
   "id": "87f040c1",
   "metadata": {},
   "outputs": [],
   "source": [
    "labels = ['PNEUMONIA', 'NORMAL']\n",
    "img_size = 150 \n",
    "\n",
    "def get_training_data(data_dir):\n",
    "    data = [] \n",
    "    img_avg_pixels = 0\n",
    "    img_cnt = 0\n",
    "    for label in labels: \n",
    "        path = os.path.join(data_dir, label)\n",
    "        class_num = labels.index(label)\n",
    "        for img in os.listdir(path):\n",
    "            try:\n",
    "                img_arr = cv2.imread(os.path.join(path, img), cv2.IMREAD_GRAYSCALE)\n",
    "                resized_arr = cv2.resize(img_arr, (img_size, img_size)) # Reshaping images to preferred size\n",
    "\n",
    "                data.append([resized_arr, class_num])\n",
    "            except Exception as e:\n",
    "                print(e)\n",
    "    return [np.array(data), img_avg_pixels]"
   ]
  },
  {
   "cell_type": "code",
   "execution_count": 4,
   "id": "c471434b",
   "metadata": {},
   "outputs": [
    {
     "name": "stdout",
     "output_type": "stream",
     "text": [
      "OpenCV(4.5.1) /tmp/pip-req-build-ms668fyv/opencv/modules/imgproc/src/resize.cpp:4051: error: (-215:Assertion failed) !ssize.empty() in function 'resize'\n",
      "\n",
      "OpenCV(4.5.1) /tmp/pip-req-build-ms668fyv/opencv/modules/imgproc/src/resize.cpp:4051: error: (-215:Assertion failed) !ssize.empty() in function 'resize'\n",
      "\n"
     ]
    },
    {
     "name": "stderr",
     "output_type": "stream",
     "text": [
      "<ipython-input-3-ba131f386448>:19: VisibleDeprecationWarning: Creating an ndarray from ragged nested sequences (which is a list-or-tuple of lists-or-tuples-or ndarrays with different lengths or shapes) is deprecated. If you meant to do this, you must specify 'dtype=object' when creating the ndarray\n",
      "  return [np.array(data), img_avg_pixels]\n"
     ]
    },
    {
     "name": "stdout",
     "output_type": "stream",
     "text": [
      "OpenCV(4.5.1) /tmp/pip-req-build-ms668fyv/opencv/modules/imgproc/src/resize.cpp:4051: error: (-215:Assertion failed) !ssize.empty() in function 'resize'\n",
      "\n",
      "OpenCV(4.5.1) /tmp/pip-req-build-ms668fyv/opencv/modules/imgproc/src/resize.cpp:4051: error: (-215:Assertion failed) !ssize.empty() in function 'resize'\n",
      "\n"
     ]
    }
   ],
   "source": [
    "train = get_training_data('datasets/archive/chest_xray/chest_xray/train')\n",
    "test = get_training_data('datasets/archive/chest_xray/chest_xray/test')\n",
    "val = get_training_data('datasets/archive/chest_xray/chest_xray/val')"
   ]
  },
  {
   "cell_type": "markdown",
   "id": "7c822690",
   "metadata": {},
   "source": [
    "<h2> Data Preprocessing </h2> <br>\n",
    "<i> After loading the resized images, we create our training, testing and validataion datasets along with\n",
    "    their respective labels. <br></i>\n",
    "    <b>Pneumonia => 1</b><br>\n",
    "    <b>Normal => 0</b><br>\n"
   ]
  },
  {
   "cell_type": "code",
   "execution_count": 6,
   "id": "4e7977df",
   "metadata": {},
   "outputs": [],
   "source": [
    "train = train[0]\n",
    "test = test[0]\n",
    "val = val[0]\n",
    "\n",
    "x_train = []\n",
    "y_train = []\n",
    "\n",
    "x_val = []\n",
    "y_val = []\n",
    "\n",
    "x_test = []\n",
    "y_test = []\n",
    "\n",
    "for feature, label in train:\n",
    "    x_train.append(feature)\n",
    "    y_train.append(label)\n",
    "\n",
    "for feature, label in test:\n",
    "    x_test.append(feature)\n",
    "    y_test.append(label)\n",
    "    \n",
    "for feature, label in val:\n",
    "    x_val.append(feature)\n",
    "    y_val.append(label)"
   ]
  },
  {
   "cell_type": "code",
   "execution_count": 7,
   "id": "1fdf5859",
   "metadata": {},
   "outputs": [],
   "source": [
    "# NORMALIZE IMAGE PIXELS\n",
    "x_train = np.array(x_train) / 255\n",
    "x_val = np.array(x_val) / 255\n",
    "x_test = np.array(x_test) / 255\n",
    "\n",
    "# RESIZE DATA FOR DEEP LEARNING\n",
    "x_train = x_train.reshape(-1, img_size, img_size, 1)\n",
    "y_train = np.array(y_train)\n",
    "\n",
    "x_val = x_val.reshape(-1, img_size, img_size, 1)\n",
    "y_val = np.array(y_val)\n",
    "\n",
    "x_test = x_test.reshape(-1, img_size, img_size, 1)\n",
    "y_test = np.array(y_test)\n"
   ]
  },
  {
   "cell_type": "markdown",
   "id": "6c953e95",
   "metadata": {},
   "source": [
    "<h2> Model Layers </h2>\n",
    "<b>1) Conv2D</b> <br>\n",
    "    <i>This layer creates a convolution kernel that is convolved with the layer input to produce a tensor of outputs. </i><br>\n",
    "<b>2) MaxPool2D</b> <br> \n",
    "<i>Downsamples the input along its spatial dimensions (height and width) by taking the maximum value over an input window (of size defined by pool_size) for each channel of the input. The window is shifted by strides along each dimension. </i><br>\n",
    "<b>3) Dropout</b> <br>\n",
    "<i>The Dropout layer randomly sets input units to 0 with a frequency of rate at each step during training time, which helps prevent overfitting. Inputs not set to 0 are scaled up by 1/(1 - rate) such that the sum over all inputs is unchanged. </i><br>\n",
    "<b>4) Flatten</b> <br>\n",
    "<i>Flattens the input. Does not affect the batch size. <br> E.g. (1, 10, 64) => (640)  </i><br>\n",
    "<b>5) Dense</b> <br>\n",
    "<i>Just your regular densely-connected NN layer. </i><br>"
   ]
  },
  {
   "cell_type": "code",
   "execution_count": null,
   "id": "a3e20fe5",
   "metadata": {},
   "outputs": [
    {
     "name": "stdout",
     "output_type": "stream",
     "text": [
      "Epoch 1/12\n",
      "115/115 [==============================] - 48s 416ms/step - loss: 0.0338 - accuracy: 0.9540 - val_loss: 73.6312 - val_accuracy: 0.1431\n",
      "Epoch 2/12\n",
      "115/115 [==============================] - 47s 409ms/step - loss: 8.1679e-24 - accuracy: 1.0000 - val_loss: 73.6321 - val_accuracy: 0.1431\n",
      "Epoch 3/12\n",
      "115/115 [==============================] - 47s 413ms/step - loss: 2.4309e-23 - accuracy: 1.0000 - val_loss: 73.6321 - val_accuracy: 0.1431\n",
      "Epoch 4/12\n",
      "115/115 [==============================] - 47s 407ms/step - loss: 2.1975e-23 - accuracy: 1.0000 - val_loss: 73.6321 - val_accuracy: 0.1431\n",
      "Epoch 5/12\n",
      "115/115 [==============================] - 46s 399ms/step - loss: 2.0769e-23 - accuracy: 1.0000 - val_loss: 73.6321 - val_accuracy: 0.1431\n",
      "Epoch 6/12\n",
      "115/115 [==============================] - 46s 397ms/step - loss: 1.1866e-23 - accuracy: 1.0000 - val_loss: 73.6321 - val_accuracy: 0.1431\n",
      "Epoch 7/12\n",
      "115/115 [==============================] - 48s 414ms/step - loss: 9.6865e-24 - accuracy: 1.0000 - val_loss: 73.6321 - val_accuracy: 0.1431\n",
      "Epoch 8/12\n",
      "115/115 [==============================] - 46s 404ms/step - loss: 1.3101e-23 - accuracy: 1.0000 - val_loss: 73.6321 - val_accuracy: 0.1431\n",
      "Epoch 9/12\n",
      "115/115 [==============================] - 48s 420ms/step - loss: 1.1143e-23 - accuracy: 1.0000 - val_loss: 73.6321 - val_accuracy: 0.1431\n",
      "Epoch 10/12\n",
      "115/115 [==============================] - 48s 417ms/step - loss: 9.8298e-24 - accuracy: 1.0000 - val_loss: 73.6321 - val_accuracy: 0.1431\n",
      "Epoch 11/12\n",
      "115/115 [==============================] - 48s 421ms/step - loss: 1.4903e-23 - accuracy: 1.0000 - val_loss: 73.6321 - val_accuracy: 0.1431\n",
      "Epoch 12/12\n",
      " 10/115 [=>............................] - ETA: 38s - loss: 4.3823e-25 - accuracy: 1.0000"
     ]
    }
   ],
   "source": [
    "epochs = 12\n",
    "\n",
    "model = Sequential()\n",
    "\n",
    "model.add(Conv2D(32, (3, 3), input_shape = (img_size,img_size,1)))\n",
    "model.add(Activation('relu'))\n",
    "model.add(MaxPooling2D(pool_size=(2, 2)))\n",
    "\n",
    "model.add(Conv2D(32, (3, 3)))\n",
    "model.add(Activation('relu'))\n",
    "model.add(MaxPooling2D(pool_size=(2, 2)))\n",
    "\n",
    "model.add(Flatten())  \n",
    "\n",
    "model.add(Dense(64))\n",
    "\n",
    "model.add(Dense(1))\n",
    "model.add(Activation('sigmoid'))\n",
    "\n",
    "model.compile(loss='binary_crossentropy',\n",
    "              optimizer='adam',\n",
    "              metrics=['accuracy'])\n",
    "\n",
    "model_var = model.fit(x_train, y_train, batch_size=32, epochs=epochs, validation_split=0.3)"
   ]
  },
  {
   "cell_type": "code",
   "execution_count": 10,
   "id": "1fb4a23b",
   "metadata": {},
   "outputs": [
    {
     "name": "stdout",
     "output_type": "stream",
     "text": [
      "20/20 [==============================] - 2s 109ms/step - loss: 39.5064 - accuracy: 0.6250\n",
      "Loss of the model is -  39.50642013549805\n",
      "20/20 [==============================] - 2s 110ms/step - loss: 39.5064 - accuracy: 0.6250\n",
      "Accuracy of the model is -  62.5 %\n"
     ]
    }
   ],
   "source": [
    "print(\"Loss of the model is - \" , model.evaluate(x_test,y_test)[0])\n",
    "print(\"Accuracy of the model is - \" , model.evaluate(x_test,y_test)[1]*100 , \"%\")"
   ]
  },
  {
   "cell_type": "code",
   "execution_count": 14,
   "id": "8d7b1abf",
   "metadata": {},
   "outputs": [
    {
     "data": {
      "image/png": "[encoded data removed]",
      "text/plain": [
       "<Figure size 1440x720 with 2 Axes>"
      ]
     },
     "metadata": {
      "needs_background": "light"
     },
     "output_type": "display_data"
    }
   ],
   "source": [
    "epochs = 12\n",
    "epochs = [i for i in range(epochs)]\n",
    "fig , ax = plt.subplots(1,2)\n",
    "train_acc = model_var.history['accuracy']\n",
    "train_loss = model_var.history['loss']\n",
    "val_acc = model_var.history['val_accuracy']\n",
    "val_loss = model_var.history['val_loss']\n",
    "fig.set_size_inches(20,10)\n",
    "\n",
    "ax[0].plot(epochs , train_acc , 'go-' , label = 'Training Accuracy')\n",
    "ax[0].plot(epochs , val_acc , 'ro-' , label = 'Validation Accuracy')\n",
    "ax[0].set_title('Training & Validation Accuracy')\n",
    "ax[0].legend()\n",
    "ax[0].set_xlabel(\"Epochs\")\n",
    "ax[0].set_ylabel(\"Accuracy\")\n",
    "\n",
    "ax[1].plot(epochs , train_loss , 'g-o' , label = 'Training Loss')\n",
    "ax[1].plot(epochs , val_loss , 'r-o' , label = 'Validation Loss')\n",
    "ax[1].set_title('Testing Accuracy & Loss')\n",
    "ax[1].legend()\n",
    "ax[1].set_xlabel(\"Epochs\")\n",
    "ax[1].set_ylabel(\"Training & Validation Loss\")\n",
    "plt.show()"
   ]
  },
  {
   "cell_type": "code",
   "execution_count": 15,
   "id": "c43ab880",
   "metadata": {},
   "outputs": [
    {
     "name": "stderr",
     "output_type": "stream",
     "text": [
      "/mnt/c/Users/legen/Desktop/MSC/Deep Learning/Projects/Project 1/venv/lib/python3.8/site-packages/tensorflow/python/keras/engine/sequential.py:450: UserWarning: `model.predict_classes()` is deprecated and will be removed after 2021-01-01. Please use instead:* `np.argmax(model.predict(x), axis=-1)`,   if your model does multi-class classification   (e.g. if it uses a `softmax` last-layer activation).* `(model.predict(x) > 0.5).astype(\"int32\")`,   if your model does binary classification   (e.g. if it uses a `sigmoid` last-layer activation).\n",
      "  warnings.warn('`model.predict_classes()` is deprecated and '\n"
     ]
    }
   ],
   "source": [
    "predictions = model.predict_classes(x_test)\n",
    "predictions = predictions.reshape(1,-1)[0]"
   ]
  },
  {
   "cell_type": "code",
   "execution_count": 16,
   "id": "c4d1f0c5",
   "metadata": {},
   "outputs": [
    {
     "name": "stdout",
     "output_type": "stream",
     "text": [
      "                     precision    recall  f1-score   support\n",
      "\n",
      "Pneumonia (Class 0)       0.62      1.00      0.77       390\n",
      "   Normal (Class 1)       0.00      0.00      0.00       234\n",
      "\n",
      "           accuracy                           0.62       624\n",
      "          macro avg       0.31      0.50      0.38       624\n",
      "       weighted avg       0.39      0.62      0.48       624\n",
      "\n"
     ]
    },
    {
     "name": "stderr",
     "output_type": "stream",
     "text": [
      "/mnt/c/Users/legen/Desktop/MSC/Deep Learning/Projects/Project 1/venv/lib/python3.8/site-packages/sklearn/metrics/_classification.py:1248: UndefinedMetricWarning: Precision and F-score are ill-defined and being set to 0.0 in labels with no predicted samples. Use `zero_division` parameter to control this behavior.\n",
      "  _warn_prf(average, modifier, msg_start, len(result))\n",
      "/mnt/c/Users/legen/Desktop/MSC/Deep Learning/Projects/Project 1/venv/lib/python3.8/site-packages/sklearn/metrics/_classification.py:1248: UndefinedMetricWarning: Precision and F-score are ill-defined and being set to 0.0 in labels with no predicted samples. Use `zero_division` parameter to control this behavior.\n",
      "  _warn_prf(average, modifier, msg_start, len(result))\n",
      "/mnt/c/Users/legen/Desktop/MSC/Deep Learning/Projects/Project 1/venv/lib/python3.8/site-packages/sklearn/metrics/_classification.py:1248: UndefinedMetricWarning: Precision and F-score are ill-defined and being set to 0.0 in labels with no predicted samples. Use `zero_division` parameter to control this behavior.\n",
      "  _warn_prf(average, modifier, msg_start, len(result))\n"
     ]
    },
    {
     "data": {
      "image/png": "[encoded data removed]",
      "text/plain": [
       "<Figure size 720x720 with 2 Axes>"
      ]
     },
     "metadata": {
      "needs_background": "light"
     },
     "output_type": "display_data"
    }
   ],
   "source": [
    "print(classification_report(y_test, predictions, target_names = ['Pneumonia (Class 0)','Normal (Class 1)']))\n",
    "cm = confusion_matrix(y_test,predictions)\n",
    "plt.figure(figsize = (10,10))\n",
    "sns.heatmap(cm,cmap= \"Blues\", linecolor = 'black' , linewidth = 1 , annot = True, fmt='',xticklabels = labels,yticklabels = labels)\n",
    "plt.show()"
   ]
  },
  {
   "cell_type": "code",
   "execution_count": null,
   "id": "4ced836a",
   "metadata": {},
   "outputs": [],
   "source": []
  }
 ],
 "metadata": {
  "kernelspec": {
   "display_name": "Python 3",
   "language": "python",
   "name": "python3"
  },
  "language_info": {
   "codemirror_mode": {
    "name": "ipython",
    "version": 3
   },
   "file_extension": ".py",
   "mimetype": "text/x-python",
   "name": "python",
   "nbconvert_exporter": "python",
   "pygments_lexer": "ipython3",
   "version": "3.8.5"
  }
 },
 "nbformat": 4,
 "nbformat_minor": 5
}
